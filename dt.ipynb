{
 "cells": [
  {
   "cell_type": "code",
   "execution_count": 1,
   "id": "a976dc04",
   "metadata": {},
   "outputs": [],
   "source": [
    "import pandas as pd\n",
    "\n",
    "\n",
    "# Create a sample dataset with various Pandas dtypes\n",
    "data = {\n",
    "    'employee_id': [101, 102, 103, 104, 105],  # int64: Unique employee ID\n",
    "    'salary': [75000.50, 82000.75, 65000.25, 90000.00, 70000.30],  # float64: Employee salary\n",
    "    'complex_calc': [1+2j, 3+4j, 5+6j, 7+8j, 9+10j],  # complex128: Hypothetical complex number\n",
    "    'name': ['Alice Smith', 'Bob Johnson', 'Charlie Brown', 'Dana White', 'Eve Black'],  # object: Employee name\n",
    "    'is_active': [True, False, True, True, False],  # bool: Employment status\n",
    "    'department': pd.Categorical(['HR', 'IT', 'Finance', 'IT', 'Marketing'], categories=['HR', 'IT', 'Finance', 'Marketing']),  # category: Department\n",
    "    'hire_date': pd.to_datetime(['2020-01-15', '2019-06-22', '2021-03-10', '2018-11-01', '2022-07-19']),  # datetime64[ns]: Hire date\n",
    "    'time_since_promotion': pd.to_timedelta(['365 days', '180 days', '500 days', '730 days', '90 days']),  # timedelta64[ns]: Time since last promotion\n",
    "    'years_experience': pd.Series([5, 8, None, 12, 3], dtype='Int64'),  # Int64: Nullable integer for experience\n",
    "    'performance_score': pd.Series([85.5, 92.0, 78.5, None, 88.0], dtype='Float64'),  # Float64: Nullable float for performance\n",
    "    'is_remote': pd.Series([True, False, None, True, False], dtype='boolean'),  # boolean: Nullable boolean for remote status\n",
    "    'email': pd.Series(['alice.s@company.com', 'bob.j@company.com', 'charlie.b@company.com', 'dana.w@company.com', 'eve.b@company.com'], dtype='string'),  # string: Email address\n",
    "    'num_projects': pd.Series([3, 5, 2, 7, 4], dtype='UInt32'),  # UInt32: Unsigned integer for number of projects\n",
    "}\n",
    "\n",
    "# Create DataFrame\n",
    "df = pd.DataFrame(data)"
   ]
  },
  {
   "cell_type": "code",
   "execution_count": null,
   "id": "b9e1777d",
   "metadata": {},
   "outputs": [
    {
     "name": "stdout",
     "output_type": "stream",
     "text": [
      "<class 'pandas.core.frame.DataFrame'>\n",
      "RangeIndex: 5 entries, 0 to 4\n",
      "Data columns (total 13 columns):\n",
      " #   Column                Non-Null Count  Dtype          \n",
      "---  ------                --------------  -----          \n",
      " 0   employee_id           5 non-null      int64          \n",
      " 1   salary                5 non-null      float64        \n",
      " 2   complex_calc          5 non-null      complex128     \n",
      " 3   name                  5 non-null      object         \n",
      " 4   is_active             5 non-null      bool           \n",
      " 5   department            5 non-null      category       \n",
      " 6   hire_date             5 non-null      datetime64[ns] \n",
      " 7   time_since_promotion  5 non-null      timedelta64[ns]\n",
      " 8   years_experience      4 non-null      Int64          \n",
      " 9   performance_score     4 non-null      Float64        \n",
      " 10  is_remote             4 non-null      boolean        \n",
      " 11  email                 5 non-null      string         \n",
      " 12  num_projects          5 non-null      UInt32         \n",
      "dtypes: Float64(1), Int64(1), UInt32(1), bool(1), boolean(1), category(1), complex128(1), datetime64[ns](1), float64(1), int64(1), object(1), string(1), timedelta64[ns](1)\n",
      "memory usage: 791.0+ bytes\n"
     ]
    },
    {
     "data": {
      "text/plain": [
       "employee_id                       int64\n",
       "salary                          float64\n",
       "complex_calc                 complex128\n",
       "name                             object\n",
       "is_active                          bool\n",
       "department                     category\n",
       "hire_date                datetime64[ns]\n",
       "time_since_promotion    timedelta64[ns]\n",
       "years_experience                  Int64\n",
       "performance_score               Float64\n",
       "is_remote                       boolean\n",
       "email                    string[python]\n",
       "num_projects                     UInt32\n",
       "dtype: object"
      ]
     },
     "execution_count": 2,
     "metadata": {},
     "output_type": "execute_result"
    }
   ],
   "source": [
    "df.info()\n",
    "df.dtypes"
   ]
  },
  {
   "cell_type": "code",
   "execution_count": 3,
   "id": "dd9f8944",
   "metadata": {},
   "outputs": [
    {
     "ename": "NameError",
     "evalue": "name 'series' is not defined",
     "output_type": "error",
     "traceback": [
      "\u001b[0;31m---------------------------------------------------------------------------\u001b[0m",
      "\u001b[0;31mNameError\u001b[0m                                 Traceback (most recent call last)",
      "Cell \u001b[0;32mIn[3], line 1\u001b[0m\n\u001b[0;32m----> 1\u001b[0m series \n\u001b[1;32m      2\u001b[0m dataframe\n",
      "\u001b[0;31mNameError\u001b[0m: name 'series' is not defined"
     ]
    }
   ],
   "source": [
    "series \n",
    "dataframe"
   ]
  },
  {
   "cell_type": "code",
   "execution_count": null,
   "id": "e995b34a",
   "metadata": {},
   "outputs": [
    {
     "data": {
      "text/plain": [
       "pandas.core.series.Series"
      ]
     },
     "execution_count": 16,
     "metadata": {},
     "output_type": "execute_result"
    }
   ],
   "source": [
    "type(df)\n",
    "type(df.employee_id)"
   ]
  },
  {
   "cell_type": "code",
   "execution_count": null,
   "id": "46f05690",
   "metadata": {},
   "outputs": [],
   "source": []
  }
 ],
 "metadata": {
  "kernelspec": {
   "display_name": "base",
   "language": "python",
   "name": "python3"
  },
  "language_info": {
   "codemirror_mode": {
    "name": "ipython",
    "version": 3
   },
   "file_extension": ".py",
   "mimetype": "text/x-python",
   "name": "python",
   "nbconvert_exporter": "python",
   "pygments_lexer": "ipython3",
   "version": "3.13.5"
  }
 },
 "nbformat": 4,
 "nbformat_minor": 5
}
